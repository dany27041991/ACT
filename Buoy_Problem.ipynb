{
 "cells": [
  {
   "cell_type": "markdown",
   "id": "ae0072f8-a396-4009-853b-97d754903bda",
   "metadata": {},
   "source": [
    "# Buoy Problem"
   ]
  },
  {
   "cell_type": "markdown",
   "id": "b76c6b8b-e753-41cb-9b82-a141b0da635e",
   "metadata": {},
   "source": [
    "## Simple Case\n",
    "\n",
    "There are subnets composed of m buoys (fields of buoys) and a controller. The goal is to maintain a minimum state of charge (both water and electricity) on all the buoys of the subnet (e.g. 70%) so that all the elements of the subnet reach a known value by managing the inputs.\n",
    "\n",
    "The subnet collects the status information of the individual nodes\n",
    "\n",
    "* If there is at least one buoy that is able to provide the resource for the request, I accept and manage the request via the B matrix to converge the state of the buoy field to the threshold value\n",
    "    * The choice of the request on the single buoy aims to get to the target value: eg: dictated the threshold value 70% and dates 3 buoys: Boa1:100%, Boa2:80%, Boa3:60% 10% request arrives, the vessel will be addressed on the Boa2 buoy so as to ensure the closest as possible to the average value, while maintaining at least one very loaded buoy.\n",
    "\n",
    "* If there is instantly no buoy that can satisfy the request then I refer to the expanded network\n",
    "    * Hypothesis: Based on logics that exploit the average value of the specific resource for the Vessel redirection, one could consider redirecting to another buoy field as a generator of a resource exchange oriented graph between boe fields. Concretely, the result will be to move the vessel to the other buoy field.\n",
    "\n",
    "In addition to routine logics, the controller will specialise activities on a single buoy (referring to the extra-diagonal components of matrix A) in order to converge the quantities of both water and energy to the threshold value."
   ]
  },
  {
   "cell_type": "markdown",
   "id": "9a652a7a-bce3-4979-9cfc-58c6253dcfde",
   "metadata": {},
   "source": [
    "## Implementation\n",
    "\n",
    "Let's consider the following system for modelling the individual buoy agent:\n",
    "$$ x(k+1) = Ax(k) + Bu(k) . $$\n",
    "\n",
    "Where matrices are so defined:\n",
    "\n",
    "$$ A=\n",
    "\\begin{bmatrix}\n",
    "K_c & -K_s \\\\\n",
    "K_s & K_a \\\\\n",
    "\\end{bmatrix}\n",
    "$$"
   ]
  },
  {
   "cell_type": "markdown",
   "id": "c9a3532e-9809-4d03-96f2-2d9b653624a0",
   "metadata": {},
   "source": [
    "With\n",
    "* $K_{c}$: battery efficiency\n",
    "* $K_{s}$: battery usage -> we can consider $K_{s}$ = 0\n",
    "* $K_{a}$: desalination efficiency\n",
    "\n",
    "x(k) represents a vector of two-dimensional buoy states at instant k, in particular\n",
    "* $x_{1}$: state of charge\n",
    "* $x_{2}$: tank state of which we have a maximum threshold (100%)\n"
   ]
  },
  {
   "cell_type": "markdown",
   "id": "4deaa735-ed6b-4553-823e-e9ad525544da",
   "metadata": {},
   "source": [
    "$$ B=\n",
    "\\begin{bmatrix}\n",
    "c_{11} & c_{12} & \\dots \\\\\n",
    "\\vdots & \\vdots & \\ddots \\\\\n",
    "c_{ij} & \\dots \\dots \\\\\n",
    "\\end{bmatrix}\n",
    "$$\n",
    "\n",
    "where $ c_{ij} $ describe boats routing\n",
    "$$\n",
    "\\begin{cases}\n",
    "  0 -> if not connected \\\\\n",
    "  1 -> if connected \\\\\n",
    "\\end{cases}\n",
    "$$\n",
    "\n",
    "Instead u(k) is a vector (2-dimensional):\n",
    "* $u_{1}$: KW/h request\n",
    "* $u_{2}$: Litres of drinking water required"
   ]
  }
 ],
 "metadata": {
  "kernelspec": {
   "display_name": "Python 3 (ipykernel)",
   "language": "python",
   "name": "python3"
  },
  "language_info": {
   "codemirror_mode": {
    "name": "ipython",
    "version": 3
   },
   "file_extension": ".py",
   "mimetype": "text/x-python",
   "name": "python",
   "nbconvert_exporter": "python",
   "pygments_lexer": "ipython3",
   "version": "3.11.7"
  }
 },
 "nbformat": 4,
 "nbformat_minor": 5
}
