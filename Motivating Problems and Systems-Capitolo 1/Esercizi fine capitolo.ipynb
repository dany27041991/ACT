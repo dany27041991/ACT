{
 "cells": [
  {
   "cell_type": "markdown",
   "id": "a2edff13-da21-4cb8-b279-6a5f9129a94d",
   "metadata": {},
   "source": [
    "![title](./images/es2.9.png)"
   ]
  },
  {
   "cell_type": "markdown",
   "id": "0fab90d8-bfd8-4d37-bca0-d2e9032e1f3a",
   "metadata": {},
   "source": [
    "# SOLUZIONE\n",
    "## (i) La matrice $(I_n - A)$ è invertibile:\n",
    "Prima notiamo che possiamo riscrivere il sistema originale come:\n",
    "$$ x(k+1) - b = Ax(k) $$\n",
    "Ora consideriamo la sequenza $y(k)$ come da suggerimento:\n",
    "$$ y(k) = x(k) -x^* $$\n",
    "Sostituendo questa nell'equazione sopra e riorganizzando (considero b nullo per semplicità), otteniamo:\n",
    "$$ y(k+1) = x(k+1) - x^* = Ax(k) - x^* = A(y(k) + x^*) - x^* = Ay(k) $$\n",
    "Possiamo riscrivere tale equazione in forma matriciale:\n",
    "$$ y(k+1) = Ay(k) $$\n",
    "Poichè A è convergente, sappiamo che il $ x(∞)=\\lim_{k→∞}A^k=0$. Perciò, quando k si avvicina all'infinito, $A^k$ converge alla matrice 0. Questo implica che $x(∞)=\\lim_{k→∞}A^ky(0)=0$ per qualunque condizione iniziale $y(0)$.\n",
    "Ora consideriamo $(I_n - A)$. Usando la formula delle serie geometriche per le matrici, abbiamo:\n",
    "$$ (I_n -A)(I_n + A + A^2 + ... + A^{k - 1})=I_n - A^k $$\n",
    "Considerando il limite per k tendente all'infinito:\n",
    "$$ \\lim_{k→∞}(I_n -A)(I_n + A + A^2 + ... + A^{k - 1})=I_n - \\lim_{k→∞}A^k = I_n - 0 = I_n$$\n",
    "dove $I_n$ è una matrice identità $n \\times n$. Questo dimostra che $(I_n - A)$ è invertibile poichè abbiamo trovato una matrice inversa sinistra, che è $(I_n + A + A^2 + ... + A^{k - 1})$. Perciò il primo statement è dimostrato.\n",
    "\n",
    "## (ii) L'unico punto di equilibrio del sistema è $(I_n - A)^{-1}b$:\n",
    "Ricordiamo il sistema originale:\n",
    "$$ x(k+1) = Ax(k) + b $$\n",
    "Per un punto di equilibrio, $x(k+1) = x(k) = x^*$, quindi abbiamo:\n",
    "$$ x^*=Ax^* + b $$\n",
    "che possiamo riscrivere come:\n",
    "$$ x^* - Ax^* = b $$\n",
    "Prendendo a fattor comune $x^*$:\n",
    "$$(I_n - A)x^* = b$$\n",
    "Ora, moltiplicando a dx e sx per $(I_n - A)^{-1}$ (che abbiamo dimostrato essere invertibile nello statement (i)), otteniamo:\n",
    "$$ x^*=(I_n - A)^{-1}b $$\n",
    "Questo dimostra che l'unico punto di equilibrio del sistema è $(I_n - A)^{-1}b$ come affermato nello statement (ii).\n",
    "\n",
    "## (iii) $ \\lim_{k→∞} x(k) = (I_n - A)^{-1}b $ per tutte le condizioni iniziali $x(0)∈ R^n$:\n",
    "Abbiamo dimostrato che il punto di equilibrio è $(I_n - A)^{-1}b$. Ora consideriamo l'evoluzione di y(k) per qualsiasi condizione iniziale y(0).\n",
    "Abbiamo:\n",
    "$$ y(k+1)=Ay(k) $$\n",
    "Questo è simile al sistema originale, ma applicato alla sequenza y(k). Poichè A è convergente, quando k tende ad infinito, $ \\lim_{k→∞} A^ky(0)=0 $ per qualsiasi condizione iniziale y(0).\n",
    "Prendendo il limite di k che va ad infinito:\n",
    "$$ \\lim_{k→∞} x(k) = \\lim_{k→∞}(y(k) + x^*) = \\lim_{k→∞}y(k) + \\lim_{k→∞}x^* = 0 + ((I_n -A)^{-1})b = ((I_n -A)^{-1})b $$\n",
    "Questo dimostra che per tutte le condizioni iniziali $x(0) ∈ R^n, \\lim_{k→∞}x(k) = ((I_n -A)^{-1})b$ come da statement (iii)."
   ]
  },
  {
   "cell_type": "code",
   "execution_count": null,
   "id": "84253c45-14ae-41f7-9fc2-4e02501c99dc",
   "metadata": {},
   "outputs": [],
   "source": []
  },
  {
   "cell_type": "markdown",
   "id": "7be827be-b543-40be-a13b-378e1aa8ae05",
   "metadata": {},
   "source": [
    "![title](./images/es2.10.png)"
   ]
  },
  {
   "cell_type": "markdown",
   "id": "bf5b2d64-3fa9-4bdc-8355-a35a360d0208",
   "metadata": {},
   "source": [
    "# SOLUZIONE\n",
    "## (i) la quantità $1_n^T$ è costante per tutti i k:\n",
    "Eseguiamo il prodotto $1_n^T$ con l'equazione $x(k+1)=Ax(k) + b$:\n",
    "$$ 1_n^Tx(k+1) = 1_n^TAx(k) + 1_n^Tb . $$\n",
    "Dato che A è doppiamente stocastica, $ 1_n^TA=1_n^T $ (la somma delle righe di A somma ad 1, $ 1_n^TA=1_n^T $), e $ 1_n^Tb = 0 $:\n",
    "$$ 1_n^Tx(k+1) = 1_n^Tx(k). $$\n",
    "Questo mostra che $1_n^Tx(k)$ è invariante nel tempo e prova lo statement (i).\n",
    "\n",
    "## per ogni $\\alpha ∈ R$, esiste un unico punto di equilibrio $x_\\alpha^*$ che soddisfa $1_n^Tx_\\alpha^* = \\alpha$ e soddisfa genericamente $x_\\alpha^* \\not \\in span\\{1_n\\}$, ed tutte le soluzioni ${x(k)}_{k ∈ Z \\geq 0}$ soddisfano $1_n^Tx(0)=\\alpha$ converge ad $x_\\alpha^*$:\n",
    "Per provare gli statement (ii) ed (iii), usiamo il suggerimento menzionato nell'esercizio 2.2, il quale suggerisce di usare una trasformazione di similarità con la matrice T (e la sua inversa $T^{-1}$). Definiamo la trasformazione:\n",
    "$$ y(k)=T^{-1}x(k) $$\n",
    "Questo implica:\n",
    "$$ x(k)=Ty(k) $$\n",
    "Sostituendo nell'averaging system affine otteniamo:\n",
    "$$ Ty(k+1)=ATy(k) + b $$\n",
    "Moltiplicando entrambi i lati per $T^{-1}$, otteniamo:\n",
    "$$ y(k+1)=T^{-1}ATy(k) + T^{-1}b $$\n",
    "Ora, poichè A è primitiva e double stocastica, per il teorema di Perron-Frobenius, A ha un autovalore semplice e dominante $\\lambda = 1$ con relativo autovettore sinistro associato $\\frac{1}{n}$ ed autovettore destro (positivo) associato v. Possiamo usare questo autovettore v per formare la matrice T, dove una delle colonne è v.\n",
    "Se consideriamo l'evoluzione della prima entry di y, $y_1(k)$, sarà disaccoppiata dalle altre entries. Usando l'esercizio 2.9 e le proprietà di A, possiamo concludere che per ogni $\\alpha$, c'è un unico punto di equilibrio e tutte le soluzioni convergono a questo equilibrio.\n",
    "Per avere una più completa soluzione bisognerebbe coinvolgere un'approfondimento sulle proprietà della matrice T ed anche di A (dal teorema di Perron-Frobenius). Bisognerebbe fare riferimento all'esercizio 2.2 e 2.9 per essere più specifici."
   ]
  },
  {
   "cell_type": "markdown",
   "id": "9bc56fb2-badc-42c5-9944-8622e87ec6d8",
   "metadata": {},
   "source": [
    "![title](./images/es2.11.png)"
   ]
  },
  {
   "cell_type": "markdown",
   "id": "0b280abd-5774-4ae1-a5d7-98e71d6c7001",
   "metadata": {},
   "source": [
    "# SOLUZIONE\n",
    "## (i) implica (ii)\n",
    "Assumendo $\\rho(A)<1$, usando il teorema 2.7, che afferma che $\\lim_{k→∞} A^k = O_{n \\times n}$.\n",
    "## (ii) implica (iii)\n",
    "Se $\\lim_{k→∞}A^k=O_{n \\times n}$, allora la Neumann series $\\sum_{k=0}^∞ A^k$ converge. \n",
    "## (iii) implica (i)\n",
    "Se la Neumann series $\\sum_{k=0}^∞ A^k$ converge, allora per definizione di convergenza, $\\lim_{k->∞} A^k = O_{n \\times n}$, implicando $\\rho(A)<1$.\n",
    "## (i) implica (iv)\n",
    "Dato $\\rho(A)<1$, sappiamo che 1 non è un autovalore di A. Quindi, $(I_n - A)$ è invertibile.\n",
    "## (iv) implica (v)\n",
    "Poichè $(I_n -A)$ è invertibile, possiamo moltiplicare entrambi i lati di $(I_n -A)^{-1} = \\sum_{k=0}^∞ A^k$ per $(I_n -A)$, ottenendo:\n",
    "$$ (I_n -A)\\sum_{k=0}^∞ A^k=I_n $$\n",
    "Espandendo e riaggiustando abbiamo:\n",
    "$$ \\sum_{k=0}^∞ A^k - A\\sum_{k=0}^∞ A^k=I_n $$\n",
    "che si semplifica come\n",
    "$$ \\sum_{k=0}^∞ A^k - \\sum_{k=1}^∞ A^{k+1}=I_n $$\n",
    "si ottiene\n",
    "$$ \\sum_{k=0}^∞ A^k (I_n - A) = I_n $$\n",
    "Poichè $(I_n -A)$ è invertibile, possiamo moltiplicare entrambi i lati per la sua inversa ed isolare la sommatoria:\n",
    "$$ \\sum_{k=0}^∞ A^k = (I_n-A)^{-1} $$\n",
    "Abbiamo quindi dimostrato che tutti gli statements sono equivalenti.\n",
    "## (v) implica (iii)\n",
    "Se $ \\sum_{k=0}^∞ A^k = (I_n-A)^{-1} $, allora la serie di Neumann converge."
   ]
  },
  {
   "cell_type": "code",
   "execution_count": null,
   "id": "a584a29b-6c58-49b0-9d4f-be9b2a556c75",
   "metadata": {},
   "outputs": [],
   "source": []
  }
 ],
 "metadata": {
  "kernelspec": {
   "display_name": "Python 3 (ipykernel)",
   "language": "python",
   "name": "python3"
  },
  "language_info": {
   "codemirror_mode": {
    "name": "ipython",
    "version": 3
   },
   "file_extension": ".py",
   "mimetype": "text/x-python",
   "name": "python",
   "nbconvert_exporter": "python",
   "pygments_lexer": "ipython3",
   "version": "3.11.7"
  }
 },
 "nbformat": 4,
 "nbformat_minor": 5
}
