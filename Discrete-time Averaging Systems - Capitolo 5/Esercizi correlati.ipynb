{
 "cells": [
  {
   "cell_type": "markdown",
   "id": "227509c4-17aa-4f46-ad07-4b78fbb73eee",
   "metadata": {},
   "source": [
    "![title](./images/Exercise_5.6.png)"
   ]
  },
  {
   "cell_type": "markdown",
   "id": "0936adeb-bd65-4346-9e97-9b74f88aeca0",
   "metadata": {},
   "source": [
    "# Soluzione"
   ]
  },
  {
   "cell_type": "markdown",
   "id": "e592ffd3-594d-4847-8544-59f1c256d55e",
   "metadata": {},
   "source": [
    "### (i) calcolare la matrice A che rappresenta questo algoritmo e verificare che sia row-stochastic"
   ]
  },
  {
   "cell_type": "markdown",
   "id": "02adb560-8af5-4e37-aa40-6693fac6b2a8",
   "metadata": {},
   "source": [
    "La matrice A che rappresenta il sistema è il seguente: \n",
    "$$ \n",
    "A = \\begin{bmatrix}\n",
    "1 & 0 \\\\\n",
    "\\alpha & 1-\\alpha\n",
    "\\end{bmatrix}\n",
    "$$"
   ]
  },
  {
   "cell_type": "markdown",
   "id": "41626b19-49d7-4626-aa79-dee1d0ccbefc",
   "metadata": {},
   "source": [
    "Le matrici si dicono _row-stocastic_ se la somma di tutti gli elementi di una riga è pari a 1, quindi data la matrice A composta dagli elementi $a_{\\text{i,j}}$ dove i={1,2,..,N}:\n",
    "\n",
    "$$\n",
    "\\begin{align*}\n",
    "{\\sum_{j=1}^{N}a_{i,j}=1}\n",
    "\\end{align*}\n",
    "$$\n"
   ]
  },
  {
   "cell_type": "markdown",
   "id": "10a8cfd9-7b2a-4bde-b8cf-9e4e1fbe7f9b",
   "metadata": {},
   "source": [
    "nel caso della matrice di cui sopra, tale definizione è rispettata per cui, la condizione è verificata"
   ]
  },
  {
   "cell_type": "markdown",
   "id": "622aa4f1-4603-4649-8ec0-b30f3d2ff0a2",
   "metadata": {},
   "source": [
    "### (ii) calcolare gli autovalori e gli autovettori sinistri e destri di A"
   ]
  },
  {
   "cell_type": "markdown",
   "id": "5c667fb0-4232-4d7d-b47e-e8c6d74aff51",
   "metadata": {},
   "source": [
    "Data l'equazione caratteristica:\n",
    "\n",
    "$$\\det(A - \\lambda I) = 0$$\n",
    "\n",
    "è possibile calcorare gli autovalori $\\lambda$ di A. \n",
    "\n",
    "In particolare: \n",
    "\n",
    "$$\\lambda_1 = 1 , \\lambda_2 = 1 - \\alpha$$\n",
    "\n",
    "Gli autovettori dx corrispondenti:\n",
    "\n",
    "- Per $\\lambda_1 = 1$:\n",
    "  $$ \n",
    "  A = \\begin{bmatrix}\n",
    "    0 & 0 \\\\\n",
    "    \\alpha & -\\alpha\n",
    "    \\end{bmatrix}\n",
    "    \\cdot \\begin{pmatrix} x \\\\ y \\end{pmatrix}\n",
    "    = \\begin{pmatrix} 0 \\\\ 0 \\end{pmatrix}\n",
    "  $$\n",
    "\n",
    "$v_1 = \\begin{pmatrix} 1 \\\\ 1 \\end{pmatrix}$.\n",
    "\n",
    "- Per $\\lambda_2 = 1 - \\alpha$:\n",
    "  $$ \n",
    "  A = \\begin{bmatrix}\n",
    "    \\alpha & 0 \\\\\n",
    "    \\alpha & 0\n",
    "    \\end{bmatrix}\n",
    "    \\cdot \\begin{pmatrix} x \\\\ y \\end{pmatrix}\n",
    "    = \\begin{pmatrix} 0 \\\\ 0 \\end{pmatrix}\n",
    "  $$\n",
    "\n",
    "$v_2 = \\begin{pmatrix} 0 \\\\ 1 \\end{pmatrix}$.\n",
    "\n",
    "Quindi, gli autovalori dx sono $\\lambda_1 = 1$ con autovettore $v_1 = \\begin{pmatrix} 1 \\\\ 1 \\end{pmatrix}$ e $\\lambda_2 = 1 - \\alpha$ con autovettore $v_2 = \\begin{pmatrix} 0 \\\\ 1 \\end{pmatrix}$."
   ]
  },
  {
   "cell_type": "markdown",
   "id": "271bcb96-27d3-4c35-bc36-c6aa71205755",
   "metadata": {},
   "source": [
    "attraverso codice si ha che:"
   ]
  },
  {
   "cell_type": "code",
   "execution_count": 43,
   "id": "7eefbe41-c6fc-4553-a53e-60fe78073a3a",
   "metadata": {},
   "outputs": [
    {
     "name": "stdout",
     "output_type": "stream",
     "text": [
      "Eigenvalues:  1\n",
      "Grade:  1\n",
      "Eigenvectors: \n",
      "Eigenvect Matrix([[1], [1]])\n",
      "\n",
      "Eigenvalues:  1 - x\n",
      "Grade:  1\n",
      "Eigenvectors: \n",
      "Eigenvect Matrix([[0], [1]])\n",
      "\n"
     ]
    }
   ],
   "source": [
    "#import delle librerie numpy e matplotlib\n",
    "import sympy as sp\n",
    "import numpy as np\n",
    "import networkx as nx\n",
    "import matplotlib.pyplot as plt\n",
    "\n",
    "x = sp.symbols('x')\n",
    "\n",
    "A = sp.Matrix([[1,0],\n",
    "            [x, 1-x]])\n",
    "\n",
    "#Restituiste tupla di info tra cui autovalore, molteplicità e autovettore\n",
    "eigenvectors = A.eigenvects()\n",
    "\n",
    "for eigenvalues, grade, eigenvect in eigenvectors:\n",
    "    print(\"Eigenvalues: \", eigenvalues)\n",
    "    print(\"Grade: \", grade)\n",
    "    print(\"Eigenvectors: \")\n",
    "    for vect in eigenvect:\n",
    "        print(\"Eigenvect\", vect)\n",
    "    print()"
   ]
  },
  {
   "cell_type": "markdown",
   "id": "32346753-3867-40b6-9272-909d85ffcccc",
   "metadata": {},
   "source": [
    "### (iii) disegnare il DiGraph e discuterne le proprietaà di connessione"
   ]
  },
  {
   "cell_type": "code",
   "execution_count": 44,
   "id": "424fe52e-b4dc-4e56-b33e-859452c6bf50",
   "metadata": {},
   "outputs": [
    {
     "data": {
      "image/png": "[encoded data removed]",
      "text/plain": [
       "<Figure size 640x480 with 1 Axes>"
      ]
     },
     "metadata": {},
     "output_type": "display_data"
    }
   ],
   "source": [
    "#impostando x=3 si ha\n",
    "\n",
    "W = np.array([[1,0],\n",
    "              [3,-4]])\n",
    "\n",
    "order = list(range(len(W)))\n",
    "\n",
    "# Creiamo il digrafo partendo dalla matrice di adiacenza\n",
    "G = nx.DiGraph(W)\n",
    "\n",
    "# Imposta l'ordine dei nodi nel digrafo\n",
    "G = nx.relabel_nodes(G, dict(zip(G.nodes(), order)))\n",
    "\n",
    "# Disegniamo il grafico\n",
    "pos = nx.spring_layout(G)  # posizione per tutti i nodi\n",
    "nx.draw(G, pos, with_labels=True, arrows=True)\n",
    "plt.show()\n"
   ]
  },
  {
   "cell_type": "markdown",
   "id": "65402cd0-45c1-44b3-9eb9-13be07e8482d",
   "metadata": {},
   "source": [
    "- Il nodo 1 non è raggiungibile globalmente poiché non esiste un percorso dal nodo 0 al nodo 1.\n",
    "- Il nodo 0 è raggiungibile globalmente poiché esiste un percorso dal nodo 1 al nodo 0."
   ]
  },
  {
   "cell_type": "markdown",
   "id": "da4a466e-bdc9-42cf-9bac-2d9abce02380",
   "metadata": {},
   "source": [
    "### (iv) disegnare il condensation Graph"
   ]
  },
  {
   "cell_type": "code",
   "execution_count": 45,
   "id": "ecaad3c0-e069-48db-b959-c3f529d11b52",
   "metadata": {},
   "outputs": [
    {
     "data": {
      "image/png": "[encoded data removed]",
      "text/plain": [
       "<Figure size 640x480 with 1 Axes>"
      ]
     },
     "metadata": {},
     "output_type": "display_data"
    }
   ],
   "source": [
    "#CondensationGraph \n",
    "condensation = nx.algorithms.components.condensation(G)\n",
    "\n",
    "nx.draw(condensation, with_labels=True, node_color='lightblue', node_size=800, font_size=12)\n",
    "plt.show()"
   ]
  },
  {
   "cell_type": "markdown",
   "id": "271fffd4-74ac-41e1-bfdb-a5432ad208f6",
   "metadata": {},
   "source": [
    "### (v) Calcolo del valore finale:\n",
    "- Richiamando l'Esercizio E2.9:\n",
    "\n",
    "  Dall'Esercizio E2.9, il valore finale di questo algoritmo può essere trovato utilizzando la formula del punto di equilibrio:\n",
    "\n",
    "    $$\n",
    "    x^* = (I - A)^{-1} b\n",
    "    $$\n",
    "    \n",
    "    Per questo sistema, $ A $ è già stocastica per righe, quindi \n",
    "    $$ \n",
    "    I - A = \\begin{pmatrix} 0 & 0 \\\\ -\\alpha & \\alpha \\end{pmatrix} \n",
    "    $$\n",
    "    \n",
    "    $$\n",
    "    det(I - A) = 0\n",
    "    $$\n",
    "    Essendo il determinante pari a 0 la matrice (I - A) è singolare.\n",
    "    Questo metodo non può essere applicato direttamente.\n",
    "\n",
    "- Invocando il Teorema 5.1:\n",
    "    Dal Teorema 5.1, poiché G ha un nodo globalmente raggiungibile e il sottografo dei nodi globalmente raggiungibili è aperiodico (il nodo 2 è aperiodico), il sistema soddisfa le condizioni del teorema.\n",
    "\n",
    "  L'autovettore dominante sinistro w corrisponde all'autovalore 1, che in questo caso è $\\begin{pmatrix} 1 & 1 \\end{pmatrix}$\n",
    "\n",
    "  Quindi il valore finale del sistema è:\n",
    "  \n",
    "    $$\n",
    "  \\lim_{k \\rightarrow \\infty} x(k) = \\left(w^{\\top} x(0)\\right) \\mathbb{1}_n = x_1(0)\\begin{pmatrix} 1 \\\\ 1 \\end{pmatrix}\n",
    "  $$"
   ]
  },
  {
   "cell_type": "markdown",
   "id": "0ce6e889-8034-450e-94c3-4e2c47aee35a",
   "metadata": {},
   "source": [
    "![title](./images/es5.7.jpg)"
   ]
  },
  {
   "cell_type": "markdown",
   "id": "80908097-4a10-4e29-9a90-73dea53c6c58",
   "metadata": {},
   "source": [
    "## Soluzione"
   ]
  },
  {
   "cell_type": "markdown",
   "id": "1d827160-371e-4c62-93c5-e6cfdfe29d0a",
   "metadata": {},
   "source": [
    "### (i) Calcola la matrice A che rappresenta questo algoritmo e verifica che sia a righe stocastiche:\n",
    "\n",
    "Dato che $s_{+1} + s_{-1} = 1$, possiamo esprimere $s_{-1}$ come $1 - s_{+1}$.\n",
    "\n",
    "La matrice $A$ può essere rappresentata come segue:\n",
    "\n",
    "$$\n",
    "A = \\begin{pmatrix} s_{+1} & 1 - s_{+1}\n",
    "\\\\ 1 - s_{-1} & s_{-1} \\end{pmatrix}\n",
    "$$\n",
    "\n",
    "Le matrici si dicono _row-stocastic_ se la somma di tutti gli elementi di una riga è pari a 1, quindi data la matrice A composta dagli elementi $a_{\\text{i,j}}$ dove i={1,2,..,N}:\n",
    "\n",
    "$$\n",
    "\\begin{align*}\n",
    "{\\sum_{j=1}^{N}a_{i,j}=1}\n",
    "\\end{align*}\n",
    "$$\n",
    "\n",
    "la matrice di cui sopra è facilmente dimostrabile essere row_stochastic\n"
   ]
  },
  {
   "cell_type": "markdown",
   "id": "9f481fb2-c11b-4773-863c-790159bc28b5",
   "metadata": {},
   "source": [
    "### (ii) Calcola $A^2$"
   ]
  },
  {
   "cell_type": "code",
   "execution_count": 40,
   "id": "c0ae26ef-2d97-4bc5-8a8b-be7c545148c6",
   "metadata": {},
   "outputs": [
    {
     "name": "stdout",
     "output_type": "stream",
     "text": [
      "Matrix([[a**2 + (1 - a)*(1 - b), a*(1 - a) + b*(1 - a)], [a*(1 - b) + b*(1 - b), b**2 + (1 - a)*(1 - b)]])\n"
     ]
    }
   ],
   "source": [
    "a = sp.symbols('a')\n",
    "b = sp.symbols('b')\n",
    "\n",
    "A = sp.Matrix([[a, 1-a],\n",
    "            [1-b, b]])\n",
    "\n",
    "AA = A*A\n",
    "print(AA)"
   ]
  },
  {
   "cell_type": "markdown",
   "id": "57bd587e-38f9-40a7-a439-a3a04e9569c0",
   "metadata": {},
   "source": [
    "$$\n",
    "AA = \\begin{pmatrix}\n",
    "a^2 + (1 - a)(1 - b) & a(1 - a) + b(1 - a) \\\\\n",
    "a(1 - b) + b(1 - b) & b^2 + (1 - a)(1 - b)\n",
    "\\end{pmatrix}\n",
    "$$\n"
   ]
  },
  {
   "cell_type": "markdown",
   "id": "59b236db-6927-4ed7-90cc-6d852e18913d",
   "metadata": {},
   "source": [
    "### (iii) Autovalori, autovettori"
   ]
  },
  {
   "cell_type": "code",
   "execution_count": 41,
   "id": "9c770010-201c-44db-8d04-fa84ad5afb21",
   "metadata": {},
   "outputs": [
    {
     "name": "stdout",
     "output_type": "stream",
     "text": [
      "Eigenvalues:  1\n",
      "Grade:  1\n",
      "Eigenvectors: \n",
      "Eigenvect Matrix([[1], [1]])\n",
      "\n",
      "Eigenvalues:  a + b - 1\n",
      "Grade:  1\n",
      "Eigenvectors: \n",
      "Eigenvect Matrix([[(1 - a)/(b - 1)], [1]])\n",
      "\n"
     ]
    }
   ],
   "source": [
    "#Restituiste tupla di info tra cui autovalore, molteplicità e autovettore\n",
    "eigenvectors = A.eigenvects()\n",
    "\n",
    "for eigenvalues, grade, eigenvect in eigenvectors:\n",
    "    print(\"Eigenvalues: \", eigenvalues)\n",
    "    print(\"Grade: \", grade)\n",
    "    print(\"Eigenvectors: \")\n",
    "    for vect in eigenvect:\n",
    "        print(\"Eigenvect\", vect)\n",
    "    print()"
   ]
  },
  {
   "cell_type": "markdown",
   "id": "77bca280-0c57-4818-b1da-c721bd3fe9f3",
   "metadata": {},
   "source": [
    "### (iv) Calcola il valore finale di questo algoritmo come funzione dei valori iniziali e dei livelli di autoconfidenza. È vero che un individuo con una maggiore autostima contribuisce di più al valore finale?\n",
    "\n",
    "Per calcolare il valore finale, dobbiamo trovare lo stato stazionario del sistema. Questo può essere fatto trovando l'autovettore corrispondente all'autovalore 1.\n",
    "\n",
    "Per quanto riguarda se un individuo con una maggiore autostima contribuisce di più al valore finale, dipende dai valori specifici di $s_{+1}$ e $s_{-1}$. In generale, un individuo con una maggiore autostima avrà una maggiore influenza sul valore finale, ma l'estensione di questa influenza sarà influenzata dai valori iniziali e dai livelli di autostima relativi di entrambi gli individui."
   ]
  },
  {
   "cell_type": "code",
   "execution_count": null,
   "id": "f90e1760-a8fb-4109-8065-b76e0c9d9b1c",
   "metadata": {},
   "outputs": [],
   "source": []
  }
 ],
 "metadata": {
  "kernelspec": {
   "display_name": "Python 3 (ipykernel)",
   "language": "python",
   "name": "python3"
  },
  "language_info": {
   "codemirror_mode": {
    "name": "ipython",
    "version": 3
   },
   "file_extension": ".py",
   "mimetype": "text/x-python",
   "name": "python",
   "nbconvert_exporter": "python",
   "pygments_lexer": "ipython3",
   "version": "3.11.7"
  }
 },
 "nbformat": 4,
 "nbformat_minor": 5
}
