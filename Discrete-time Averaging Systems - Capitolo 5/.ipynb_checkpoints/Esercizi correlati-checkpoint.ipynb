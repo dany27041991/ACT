{
 "cells": [
  {
   "cell_type": "markdown",
   "id": "227509c4-17aa-4f46-ad07-4b78fbb73eee",
   "metadata": {},
   "source": [
    "![title](./images/Exercise_5.6.png)"
   ]
  },
  {
   "cell_type": "markdown",
   "id": "0936adeb-bd65-4346-9e97-9b74f88aeca0",
   "metadata": {},
   "source": [
    "# Soluzione"
   ]
  },
  {
   "cell_type": "markdown",
   "id": "e592ffd3-594d-4847-8544-59f1c256d55e",
   "metadata": {},
   "source": [
    "### (i) calcolare la matrice A che rappresenta questo algoritmo e verificare che sia row-stochastic"
   ]
  },
  {
   "cell_type": "markdown",
   "id": "02adb560-8af5-4e37-aa40-6693fac6b2a8",
   "metadata": {},
   "source": [
    "La matrice A che rappresenta il sistema è il seguente: \n",
    "\\begin{bmatrix}\n",
    "1 & 0 \\\\\n",
    "\\alpha & 1-\\alpha \n",
    "\\end{bmatrix}"
   ]
  },
  {
   "cell_type": "markdown",
   "id": "41626b19-49d7-4626-aa79-dee1d0ccbefc",
   "metadata": {},
   "source": [
    "Le matrici si dicono _row-stocastic_ se la somma di tutti gli elementi di una riga è pari a 1, quindi data la matrice A composta dagli elementi $a_{\\text{i,j}}$ dove i={1,2,..,N}:\n",
    "\n",
    "$\n",
    "\\begin{align*}\n",
    "{\\sum_{j=1}^{N}a_{i,j}=1}\n",
    "\\end{align*}\n",
    "$\n"
   ]
  },
  {
   "cell_type": "code",
   "execution_count": null,
   "id": "99495d54-8541-41de-9fcb-047839945f70",
   "metadata": {},
   "outputs": [],
   "source": []
  }
 ],
 "metadata": {
  "kernelspec": {
   "display_name": "Python 3 (ipykernel)",
   "language": "python",
   "name": "python3"
  },
  "language_info": {
   "codemirror_mode": {
    "name": "ipython",
    "version": 3
   },
   "file_extension": ".py",
   "mimetype": "text/x-python",
   "name": "python",
   "nbconvert_exporter": "python",
   "pygments_lexer": "ipython3",
   "version": "3.11.7"
  }
 },
 "nbformat": 4,
 "nbformat_minor": 5
}
